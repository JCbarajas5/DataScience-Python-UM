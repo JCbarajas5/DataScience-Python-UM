{
  "nbformat": 4,
  "nbformat_minor": 0,
  "metadata": {
    "colab": {
      "provenance": []
    },
    "kernelspec": {
      "name": "python3",
      "display_name": "Python 3"
    },
    "language_info": {
      "name": "python"
    }
  },
  "cells": [
    {
      "cell_type": "code",
      "execution_count": null,
      "metadata": {
        "id": "Ypgt8W_vTYbs"
      },
      "outputs": [],
      "source": []
    },
    {
      "cell_type": "markdown",
      "source": [
        "Carga el archivo CSV en un DataFrame. (Descarga el archivo aquí)\n",
        "El archivo debe estar almacenado en tu Google Drive\n",
        "Muestra las primeras 10 filas para conocer la estructura de los datos."
      ],
      "metadata": {
        "id": "0Oj4JXyYTZNB"
      }
    },
    {
      "cell_type": "code",
      "source": [
        "import pandas as pd\n",
        "\n",
        "\n",
        "\n",
        "ruta= \"/Users/fernando/Documents/Big data E IA/Semestre 1/Mineria de Datos/ACTIVIDADES/A02-keyword-ideas-auto.seminuevo.csv\"\n",
        "\n",
        "\n",
        "\n",
        "\n",
        "autos_semi=pd.read_csv(ruta,encoding='latin1',delimiter=',')\n",
        "\n",
        "autos_semi.head(10)"
      ],
      "metadata": {
        "id": "LY7FNdYjTa1T"
      },
      "execution_count": null,
      "outputs": []
    },
    {
      "cell_type": "markdown",
      "source": [
        "Verifica el tipo de datos de cada columna (info()).\n",
        "Identifica si existen valores nulos y cuenta cuántos hay por columna.\n",
        "Determina si hay valores duplicados en la columna de \"Keyword\" y cuántos son."
      ],
      "metadata": {
        "id": "vvKWCgI_Te2u"
      }
    },
    {
      "cell_type": "code",
      "source": [
        "# Mostrar información del DataFrame\n",
        "print(\"📌 DataFrame info\")\n",
        "print(autos_semi.info())\n",
        "print(\"-\" * 50)\n",
        "\n",
        "# Verificar si hay valores nulos\n",
        "null_value = autos_semi.isnull().values.any()\n",
        "print(f\"🔍 ¿Null values?: {null_value}\")\n",
        "print(\"-\" * 50)\n",
        "autos_semi[\"Keyword\"] = autos_semi[\"Keyword\"].str.strip()\n",
        "\n",
        "# Verificar duplicados en la columna \"Keyword\"\n",
        "duplicados = autos_semi[autos_semi.duplicated(subset=[\"Keyword\"], keep=False)]\n",
        "print(\"📌 DUPLICATED ROWS IN 'Keyword':\")\n",
        "print(duplicados)\n",
        "print(\"-\" * 50)\n",
        "\n",
        "# Contar cuántas veces se repite cada valor en \"Keyword\"\n",
        "duplicados_count = autos_semi['Keyword'].value_counts()\n",
        "print(\"📌 COUNT OF DUPLICATES IN 'Keyword':\")\n",
        "print(duplicados_count)\n"
      ],
      "metadata": {
        "id": "4u7jIcwUTiWt"
      },
      "execution_count": null,
      "outputs": []
    },
    {
      "cell_type": "markdown",
      "source": [
        "2. Limpieza de datos\n",
        "\n",
        "Conversión de tipos: Convierte las columnas \"Search Volume\" y \"CPC\" a valores numéricos, eliminando caracteres no numéricos (como \"$\" y \",\").\n",
        "Eliminación de duplicados: Si una keyword aparece más de una vez, deja solo una instancia.\n",
        "Normalización de texto: Convierte las keywords a minúsculas y elimina espacios innecesarios."
      ],
      "metadata": {
        "id": "4KaTKK9xTkeh"
      }
    },
    {
      "cell_type": "code",
      "source": [
        "autos_semi[\"Search Volume\"] = autos_semi[\"Search Volume\"].replace('[$,]', '', regex=True).astype(float)\n",
        "autos_semi[\"CPC\"] = autos_semi[\"CPC\"].replace('[$,]', '', regex=True).astype(float)\n",
        "\n",
        "print(\"📌 Replace signs and convert column to float\")\n",
        "print(autos_semi.dtypes)\n",
        "\n",
        "autos_semi['Keyword']=autos_semi['Keyword'].str.lower().str.strip()\n",
        "autos_semi=autos_semi.drop_duplicates(subset=['Keyword'],keep=\"first\")\n",
        "print(\"📌 Verify duplicates in 'Keyword' and convert to lowercase\")\n",
        "autos_semi.head(10)"
      ],
      "metadata": {
        "id": "TMPAAfudTo5p"
      },
      "execution_count": null,
      "outputs": []
    },
    {
      "cell_type": "markdown",
      "source": [
        "3. Análisis de datos\n",
        "\n",
        "Determina cuál es la keyword con mayor volumen de búsqueda.\n",
        "Calcula el promedio de CPC en toda la base de datos.\n",
        "Filtra y muestra las keywords con un CPC mayor al promedio.\n",
        "Filtra las keywords con una dificultad SEO menor a 40 (consideradas más fáciles de posicionar).\n",
        "Identifica cuántas keywords incluyen los términos \"toyota\", \"nissan\" o \"ford\", y calcula su volumen total de búsqueda."
      ],
      "metadata": {
        "id": "6JnWZdp3TqTl"
      }
    },
    {
      "cell_type": "code",
      "source": [
        "maxKeyWord=autos_semi.loc[autos_semi[\"Search Volume\"].idxmax(),\"Keyword\"]\n",
        "\n",
        "print(f\"🔍 Keyword with the biggest volume of search: {maxKeyWord}\")\n",
        "\n",
        "\n",
        "avgCPC=autos_semi['CPC'].mean()\n",
        "\n",
        "print(f\"💵 The CPC mean is: {avgCPC}\")\n",
        "\n",
        "biggerkeyword=autos_semi[autos_semi[\"CPC\"]>avgCPC][[\"Keyword\",\"CPC\"]]\n",
        "print(\"🚗 CPC bigger than avg CPC:\")\n",
        "biggerkeyword\n",
        "\n",
        "keySeo=autos_semi[autos_semi[\"SEO Difficulty\"] < 40 ][['Keyword','SEO Difficulty']]\n",
        "\n",
        "print(f\"🔍 Seo lower than 40: \")\n",
        "keySeo\n",
        "\n",
        "keywordBrand=autos_semi[autos_semi['Keyword'].str.lower().str.contains(\"toyota|nissan|ford\",regex=True,na=False)]\n",
        "print(\"📌 Keywords that contain 'toyota', 'nissan' o 'ford':\")\n",
        "sumcars=keywordBrand[\"Search Volume\"].sum()\n",
        "print(f'📊 El volumen total de busquedas de las marcas es de : {sumcars}')"
      ],
      "metadata": {
        "id": "-jtPyT1XTswL"
      },
      "execution_count": null,
      "outputs": []
    },
    {
      "cell_type": "markdown",
      "source": [
        "4. Análisis comparativo\n",
        "\n",
        "Ordena las keywords de mayor a menor según su dificultad SEO y muestra las primeras 10.\n",
        "Ordena las keywords de menor a mayor según su CPC y muestra las primeras 10.\n",
        "Crea una nueva columna que clasifique las keywords en “Alto CPC” (si su CPC es mayor a 5) o “Bajo CPC” (si es menor o igual a 5)."
      ],
      "metadata": {
        "id": "xP8UNV0gTuih"
      }
    },
    {
      "cell_type": "code",
      "source": [
        "print(\"📌 First 10 biggest KeyWord SEO based\")\n",
        "firstKeyword = autos_semi[['Keyword', 'SEO Difficulty']].nlargest(10, 'SEO Difficulty').reset_index(drop=True)\n",
        "\n",
        "firstKeyword\n",
        "print(\"📌 First 10 lowest KeyWord CPC based\")\n",
        "lastKeyCpc=autos_semi[['Keyword',\"CPC\"]].nsmallest(10,'CPC').reset_index(drop=True)\n",
        "lastKeyCpc\n",
        "print(\"📌 New column where the CPC is bigger than 5\")\n",
        "\n",
        "autos_semi['HIGHCPC']=autos_semi['CPC'].where(autos_semi[\"CPC\"]> 5,0)\n",
        "print(\"📌 New column where the CPC is lower or equal to 5\")\n",
        "\n",
        "autos_semi['LOWCPC']= autos_semi['CPC'].where(autos_semi['CPC']<=5,0)\n",
        "autos_semi"
      ],
      "metadata": {
        "id": "c8pw3YrYTwQ4"
      },
      "execution_count": null,
      "outputs": []
    },
    {
      "cell_type": "markdown",
      "source": [
        "5. Preguntas de interpretación\n",
        "\n",
        "Con base en el análisis, responde en texto:\n",
        "\n",
        "¿Cuáles son las keywords más costosas y qué las hace valiosas para campañas de pago?\n",
        "¿Qué marcas de autos tienen más volumen de búsqueda y qué oportunidades representa esto para una estrategia de SEO?\n",
        "¿Cuáles keywords recomendarías para una estrategia de bajo costo y alta visibilidad?"
      ],
      "metadata": {
        "id": "o_pBqr-9T5Qg"
      }
    },
    {
      "cell_type": "markdown",
      "source": [
        "Según tu interpretación como analista de datos, debes proponer tres nuevos insights útiles para el negocio a partir del análisis de la base de datos.\n"
      ],
      "metadata": {
        "id": "XaVcWx1UT6Qc"
      }
    }
  ]
}