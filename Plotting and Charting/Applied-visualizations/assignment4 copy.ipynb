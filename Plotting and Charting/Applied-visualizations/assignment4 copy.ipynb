{
 "cells": [
  {
   "attachments": {},
   "cell_type": "markdown",
   "metadata": {
    "deletable": false,
    "editable": false,
    "nbgrader": {
     "cell_type": "markdown",
     "checksum": "7539457c865cc3aec382650368b3be67",
     "grade": false,
     "grade_id": "cell-2ccb6b5d27ca3b7d",
     "locked": true,
     "schema_version": 3,
     "solution": false,
     "task": false
    }
   },
   "source": [
    "# Assignment 4\n",
    "\n",
    "Before working on this assignment please read these instructions fully. In the submission area, you will notice that you can click the link to **Preview the Grading** for each step of the assignment. This is the criteria that will be used for peer grading. Please familiarize yourself with the criteria before beginning the assignment.\n",
    "\n",
    "This assignment requires that you find **at least two datasets** on the web which are related, and that you visualize these datasets to answer the assignment question. You are free to utilize datasets with any location or domain, the usage of **Ann Arbor sports and athletics** datasets in the example is just a suggestion.\n",
    "\n",
    "You are welcome to choose datasets at your discretion, but keep in mind **they will be shared with your peers**, so choose appropriate datasets. Sensitive, confidential, illicit, and proprietary materials are not good choices for datasets for this assignment. You are welcome to upload datasets of your own as well, and link to them using a third party repository such as github, pastebin, etc. Please be aware of the Coursera terms of service with respect to intellectual property.\n",
    "\n",
    "Also, you are welcome to preserve data in its original language, but for the purposes of grading you should provide english translations. You are welcome to provide multiple visuals in different languages if you would like!\n",
    "\n",
    "As this assignment is for the whole course, you must incorporate principles discussed in the first week, such as having as high data-ink ratio (Tufte) and aligning with Cairo’s principles of truth, beauty, function, and insight.\n",
    "\n",
    "Here are the assignment instructions:\n",
    "\n",
    " * You must state a question you are seeking to answer with your visualizations.\n",
    " * You must provide at least two links to available datasets. These could be links to files such as CSV or Excel files, or links to websites which might have data in tabular form, such as Wikipedia pages.\n",
    " * You must upload an image which addresses the research question you stated. In addition to addressing the question, this visual should follow Cairo's principles of truthfulness, functionality, beauty, and insightfulness.\n",
    " * You must contribute a short (1-2 paragraph) written justification of how your visualization addresses your stated research question.\n",
    "\n",
    "## Tips\n",
    "* Wikipedia is an excellent source of data, and I strongly encourage you to explore it for new data sources.\n",
    "* Many governments run open data initiatives at the city, region, and country levels, and these are wonderful resources for localized data sources.\n",
    "* Several international agencies, such as the [United Nations](http://data.un.org/), the [World Bank](http://data.worldbank.org/), the [Global Open Data Index](http://index.okfn.org/place/) are other great places to look for data.\n",
    "* This assignment requires you to convert and clean datafiles. Check out the discussion forums for tips on how to do this from various sources, and share your successes with your fellow students!\n",
    "\n",
    "## Example\n",
    "Looking for an example? Here's what our course assistant put together as an example! [Example Solution File](./readonly/Assignment4_example.pdf)"
   ]
  },
  {
   "cell_type": "code",
   "execution_count": null,
   "metadata": {},
   "outputs": [],
   "source": [
    "import pandas as pd\n",
    "import matplotlib.pyplot as plt\n",
    "\n",
    "# Load the population density dataset\n",
    "pop_density_df = pd.read_html('https://en.wikipedia.org/wiki/List_of_Mexican_states_by_population_density')[0]\n",
    "pop_density_df.columns = pop_density_df.columns.droplevel(0) # drop multi-level index column\n",
    "pop_density_df.set_index('State', inplace=True) # set state column as index\n",
    "pop_density_df.drop('Rank', axis=1, inplace=True) # drop unnecessary column\n"
   ]
  },
  {
   "cell_type": "code",
   "execution_count": null,
   "metadata": {},
   "outputs": [],
   "source": [
    "gdp_df = pd.read_html('https://en.wikipedia.org/wiki/List_of_Mexican_states_by_GDP')[0]"
   ]
  },
  {
   "cell_type": "code",
   "execution_count": null,
   "metadata": {},
   "outputs": [],
   "source": [
    "\n",
    "# Load the GDP dataset\n",
    "gdp_df = pd.read_html('https://en.wikipedia.org/wiki/List_of_Mexican_states_by_GDP')[0]\n",
    "gdp_df.set_index('State', inplace=True) # set state column as index\n",
    "\n",
    "# Merge the datasets\n",
    "merged_df = pd.merge(pop_density_df, gdp_df, on='State')\n",
    "\n",
    "# Plot the scatter plot\n",
    "plt.scatter(merged_df['Density(/km²)'], merged_df['GDP($m)'], c=merged_df['Region'].astype('category').cat.codes, cmap='rainbow')\n",
    "plt.xlabel('Population Density (/km²)')\n",
    "plt.ylabel('GDP ($m)')\n",
    "plt.title('Relationship between population density and GDP in Mexican states')\n",
    "plt.show()"
   ]
  },
  {
   "cell_type": "code",
   "execution_count": null,
   "metadata": {},
   "outputs": [],
   "source": [
    "import pandas as pd\n",
    "import matplotlib.pyplot as plt\n",
    "\n",
    "# Load the datasets\n",
    "pop_df = pd.read_html('https://en.wikipedia.org/wiki/List_of_Mexican_states_by_population')[0]\n",
    "area_df = pd.read_html('https://en.wikipedia.org/wiki/List_of_Mexican_states_by_area')[0]\n",
    "\n"
   ]
  },
  {
   "cell_type": "code",
   "execution_count": null,
   "metadata": {},
   "outputs": [],
   "source": [
    "\n",
    "# Clean and merge the datasets\n",
    "pop_df = pop_df[['State', 'Population']]\n",
    "pop_df['State'] = pop_df['State'].str.lower()\n",
    "area_df = area_df[['State', 'Total area']]\n",
    "area_df['State'] = area_df['State'].str.lower()\n",
    "merged_df = pd.merge(pop_df, area_df, on='State')\n",
    "\n",
    "# Plot the scatter plot\n",
    "fig, ax = plt.subplots()\n",
    "ax.scatter(merged_df['Total area'], merged_df['Population'], s=merged_df['GDP'], alpha=0.5)\n",
    "ax.set_xlabel('Area (km²)')\n",
    "ax.set_ylabel('Population')\n",
    "ax.set_title('Population and Area of Mexican States')\n",
    "plt.show()\n"
   ]
  }
 ],
 "metadata": {
  "coursera": {
   "schema_names": [
    "mooc_adswpy_v1_assignment4"
   ]
  },
  "kernelspec": {
   "display_name": "Python 3 (ipykernel)",
   "language": "python",
   "name": "python3"
  },
  "language_info": {
   "codemirror_mode": {
    "name": "ipython",
    "version": 3
   },
   "file_extension": ".py",
   "mimetype": "text/x-python",
   "name": "python",
   "nbconvert_exporter": "python",
   "pygments_lexer": "ipython3",
   "version": "3.10.4"
  },
  "vscode": {
   "interpreter": {
    "hash": "aee8b7b246df8f9039afb4144a1f6fd8d2ca17a180786b69acc140d282b71a49"
   }
  }
 },
 "nbformat": 4,
 "nbformat_minor": 4
}
